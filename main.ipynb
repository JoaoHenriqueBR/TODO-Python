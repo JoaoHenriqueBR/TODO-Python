{
 "cells": [
  {
   "cell_type": "markdown",
   "metadata": {},
   "source": [
    "- Importar Bibliotecas"
   ]
  },
  {
   "cell_type": "code",
   "execution_count": 23,
   "metadata": {},
   "outputs": [],
   "source": [
    "import sqlite3"
   ]
  },
  {
   "cell_type": "markdown",
   "metadata": {},
   "source": [
    "- Conectar ao Banco"
   ]
  },
  {
   "cell_type": "code",
   "execution_count": 24,
   "metadata": {},
   "outputs": [],
   "source": [
    "conn = sqlite3.connect('dados.db')\n",
    "\n",
    "# Criar um cursor\n",
    "cursor = conn.cursor()"
   ]
  },
  {
   "cell_type": "markdown",
   "metadata": {},
   "source": [
    "#### TABELA\n",
    "\n",
    "- Criar tabela (se não existir)"
   ]
  },
  {
   "cell_type": "code",
   "execution_count": 25,
   "metadata": {},
   "outputs": [
    {
     "data": {
      "text/plain": [
       "<sqlite3.Cursor at 0x7f2251e267c0>"
      ]
     },
     "execution_count": 25,
     "metadata": {},
     "output_type": "execute_result"
    }
   ],
   "source": [
    "cursor.execute('''\n",
    "CREATE TABLE IF NOT EXISTS Tarefa (\n",
    "    Tarefa_Id INTEGER PRIMARY KEY,\n",
    "    Tarefa_Titulo VARCHAR(50),\n",
    "    Tarefa_Desc VARCHAR(150),\n",
    "    Periodo_Id INTEGER,\n",
    "    Tipo_tarefa_id INTEGER,\n",
    "    FOREIGN KEY (Periodo_Id) REFERENCES Periodo (Periodo_Id),\n",
    "    FOREIGN KEY (Tipo_tarefa_id) REFERENCES Tipo_Tarefa (Tipo_tarefa_id)\n",
    ");\n",
    "''')\n",
    "\n",
    "cursor.execute('''\n",
    "CREATE TABLE IF NOT EXISTS Tipo_Tarefa (\n",
    "    Tipo_tarefa_id INTEGER PRIMARY KEY,\n",
    "    Tipo_tarefa_titulo VARCHAR(50)\n",
    ");\n",
    "''')\n",
    "\n",
    "cursor.execute('''\n",
    "CREATE TABLE IF NOT EXISTS Periodo (\n",
    "    Periodo_Id INTEGER PRIMARY KEY,\n",
    "    Periodo_Titulo VARCHAR(50),\n",
    "    Periodo_hora_inicio TIME,\n",
    "    Periodo_hora_final TIME\n",
    ");\n",
    "''')"
   ]
  }
 ],
 "metadata": {
  "kernelspec": {
   "display_name": "Python 3",
   "language": "python",
   "name": "python3"
  },
  "language_info": {
   "codemirror_mode": {
    "name": "ipython",
    "version": 3
   },
   "file_extension": ".py",
   "mimetype": "text/x-python",
   "name": "python",
   "nbconvert_exporter": "python",
   "pygments_lexer": "ipython3",
   "version": "3.12.7"
  }
 },
 "nbformat": 4,
 "nbformat_minor": 2
}
